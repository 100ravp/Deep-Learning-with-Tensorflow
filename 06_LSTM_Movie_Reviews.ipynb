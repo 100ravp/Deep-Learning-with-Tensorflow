{
  "nbformat": 4,
  "nbformat_minor": 0,
  "metadata": {
    "colab": {
      "name": "06 LSTM-Movie-Reviews.ipynb",
      "provenance": [],
      "collapsed_sections": []
    },
    "kernelspec": {
      "name": "python3",
      "display_name": "Python 3"
    },
    "accelerator": "GPU"
  },
  "cells": [
    {
      "cell_type": "code",
      "metadata": {
        "id": "D7f9C3TIGdaP"
      },
      "source": [
        "#libraries\r\n",
        "import tensorflow as tf\r\n",
        "from tensorflow.keras.datasets import imdb\r\n",
        "import numpy as np\r\n",
        "import pandas as pd\r\n",
        "import matplotlib.pyplot as plt\r\n",
        "\r\n",
        "\r\n",
        "from tensorflow.keras.models import Sequential\r\n",
        "from tensorflow.keras.layers import LSTM,Dense, Embedding"
      ],
      "execution_count": null,
      "outputs": []
    },
    {
      "cell_type": "code",
      "metadata": {
        "id": "wjcY9u0QGwWa"
      },
      "source": [
        "#setting parameters\r\n",
        "number_of_words = 25000\r\n",
        "max_len = 120"
      ],
      "execution_count": null,
      "outputs": []
    },
    {
      "cell_type": "code",
      "metadata": {
        "colab": {
          "base_uri": "https://localhost:8080/"
        },
        "id": "gOHZ2NAJHMbk",
        "outputId": "b58d3bd2-8335-467f-ba98-eb386cb548d7"
      },
      "source": [
        "#downloading the data\r\n",
        "(X_train, y_train), (X_test,y_test) = imdb.load_data(num_words=number_of_words)"
      ],
      "execution_count": null,
      "outputs": [
        {
          "output_type": "stream",
          "text": [
            "Downloading data from https://storage.googleapis.com/tensorflow/tf-keras-datasets/imdb.npz\n",
            "17465344/17464789 [==============================] - 0s 0us/step\n"
          ],
          "name": "stdout"
        },
        {
          "output_type": "stream",
          "text": [
            "<string>:6: VisibleDeprecationWarning: Creating an ndarray from ragged nested sequences (which is a list-or-tuple of lists-or-tuples-or ndarrays with different lengths or shapes) is deprecated. If you meant to do this, you must specify 'dtype=object' when creating the ndarray\n",
            "/usr/local/lib/python3.6/dist-packages/tensorflow/python/keras/datasets/imdb.py:159: VisibleDeprecationWarning: Creating an ndarray from ragged nested sequences (which is a list-or-tuple of lists-or-tuples-or ndarrays with different lengths or shapes) is deprecated. If you meant to do this, you must specify 'dtype=object' when creating the ndarray\n",
            "  x_train, y_train = np.array(xs[:idx]), np.array(labels[:idx])\n",
            "/usr/local/lib/python3.6/dist-packages/tensorflow/python/keras/datasets/imdb.py:160: VisibleDeprecationWarning: Creating an ndarray from ragged nested sequences (which is a list-or-tuple of lists-or-tuples-or ndarrays with different lengths or shapes) is deprecated. If you meant to do this, you must specify 'dtype=object' when creating the ndarray\n",
            "  x_test, y_test = np.array(xs[idx:]), np.array(labels[idx:])\n"
          ],
          "name": "stderr"
        }
      ]
    },
    {
      "cell_type": "code",
      "metadata": {
        "id": "HcUNywrpHWxX"
      },
      "source": [
        "#pre processing the data\r\n",
        "X_train = tf.keras.preprocessing.sequence.pad_sequences(X_train, maxlen=max_len)\r\n",
        "\r\n",
        "X_test = tf.keras.preprocessing.sequence.pad_sequences(X_test, maxlen=max_len)"
      ],
      "execution_count": null,
      "outputs": []
    },
    {
      "cell_type": "code",
      "metadata": {
        "id": "5to17bowI-0I"
      },
      "source": [
        "#model building\r\n",
        "model = Sequential()\r\n",
        "model.add(Embedding(input_dim=number_of_words, output_dim=128, input_shape=(X_train.shape[1],)))\r\n",
        "model.add(LSTM(units=512, activation=\"tanh\"))\r\n",
        "model.add(Dense(1,activation=\"sigmoid\"))\r\n",
        "model.compile(loss=\"binary_crossentropy\", optimizer=\"adam\", metrics=[\"accuracy\"])"
      ],
      "execution_count": null,
      "outputs": []
    },
    {
      "cell_type": "code",
      "metadata": {
        "colab": {
          "base_uri": "https://localhost:8080/"
        },
        "id": "K4miL-IzJIw2",
        "outputId": "a0ea5034-db33-4be8-8a9f-c8ca1b48d6a7"
      },
      "source": [
        "#sumarising the model\r\n",
        "model.summary()"
      ],
      "execution_count": null,
      "outputs": [
        {
          "output_type": "stream",
          "text": [
            "Model: \"sequential\"\n",
            "_________________________________________________________________\n",
            "Layer (type)                 Output Shape              Param #   \n",
            "=================================================================\n",
            "embedding (Embedding)        (None, 120, 128)          3200000   \n",
            "_________________________________________________________________\n",
            "lstm (LSTM)                  (None, 512)               1312768   \n",
            "_________________________________________________________________\n",
            "dense (Dense)                (None, 1)                 513       \n",
            "=================================================================\n",
            "Total params: 4,513,281\n",
            "Trainable params: 4,513,281\n",
            "Non-trainable params: 0\n",
            "_________________________________________________________________\n"
          ],
          "name": "stdout"
        }
      ]
    },
    {
      "cell_type": "code",
      "metadata": {
        "colab": {
          "base_uri": "https://localhost:8080/"
        },
        "id": "BsjaU9RPJ5tO",
        "outputId": "36276ca1-37a8-443c-952f-06d3fc7b34b1"
      },
      "source": [
        "#training the model\r\n",
        "model.fit(X_train, y_train, validation_split=0.25, epochs=5, batch_size=64)"
      ],
      "execution_count": null,
      "outputs": [
        {
          "output_type": "stream",
          "text": [
            "Epoch 1/5\n",
            "293/293 [==============================] - 24s 54ms/step - loss: 0.6373 - accuracy: 0.6300 - val_loss: 0.3835 - val_accuracy: 0.8397\n",
            "Epoch 2/5\n",
            "293/293 [==============================] - 15s 52ms/step - loss: 0.2991 - accuracy: 0.8768 - val_loss: 0.3856 - val_accuracy: 0.8266\n",
            "Epoch 3/5\n",
            "293/293 [==============================] - 15s 52ms/step - loss: 0.1653 - accuracy: 0.9418 - val_loss: 0.4240 - val_accuracy: 0.8462\n",
            "Epoch 4/5\n",
            "293/293 [==============================] - 15s 52ms/step - loss: 0.0756 - accuracy: 0.9739 - val_loss: 0.5530 - val_accuracy: 0.8136\n",
            "Epoch 5/5\n",
            "293/293 [==============================] - 15s 51ms/step - loss: 0.0529 - accuracy: 0.9834 - val_loss: 0.6224 - val_accuracy: 0.8296\n"
          ],
          "name": "stdout"
        },
        {
          "output_type": "execute_result",
          "data": {
            "text/plain": [
              "<tensorflow.python.keras.callbacks.History at 0x7f2e05ff78d0>"
            ]
          },
          "metadata": {
            "tags": []
          },
          "execution_count": 7
        }
      ]
    },
    {
      "cell_type": "code",
      "metadata": {
        "colab": {
          "base_uri": "https://localhost:8080/",
          "height": 353
        },
        "id": "sT6BWdu6Kc3H",
        "outputId": "ea3a01cc-bc17-4da8-c09c-034864a4435f"
      },
      "source": [
        " #saving the losses\r\n",
        "loss = pd.DataFrame(model.history.history)\r\n",
        " \r\n",
        " #plotting the loss and accuracy\r\n",
        "plt.figure(figsize=(15,5))\r\n",
        "\r\n",
        "plt.subplot(1,2,1)\r\n",
        "plt.plot(loss[\"loss\"], label =\"Loss\")\r\n",
        "plt.plot(loss[\"val_loss\"], label = \"Validation_loss\")\r\n",
        "plt.legend()\r\n",
        "plt.title(\"Training and Validation Loss\")\r\n",
        "\r\n",
        "plt.subplot(1,2,2)\r\n",
        "plt.plot(loss['accuracy'],label = \"Training Accuracy\")\r\n",
        "plt.plot(loss['val_accuracy'], label =\"Validation_ Accuracy \")\r\n",
        "plt.legend()\r\n",
        "plt.title(\"Training-Validation Accuracy\")"
      ],
      "execution_count": null,
      "outputs": [
        {
          "output_type": "execute_result",
          "data": {
            "text/plain": [
              "Text(0.5, 1.0, 'Training-Validation Accuracy')"
            ]
          },
          "metadata": {
            "tags": []
          },
          "execution_count": 8
        },
        {
          "output_type": "display_data",
          "data": {
            "image/png": "[encoded data removed]",
            "text/plain": [
              "<Figure size 1080x360 with 2 Axes>"
            ]
          },
          "metadata": {
            "tags": [],
            "needs_background": "light"
          }
        }
      ]
    },
    {
      "cell_type": "code",
      "metadata": {
        "id": "eV_rixK0K5N4"
      },
      "source": [
        ""
      ],
      "execution_count": null,
      "outputs": []
    }
  ]
}