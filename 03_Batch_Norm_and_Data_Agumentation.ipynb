{
  "nbformat": 4,
  "nbformat_minor": 0,
  "metadata": {
    "colab": {
      "name": "03-Batch Norm and Data Agumentation.ipynb",
      "provenance": []
    },
    "kernelspec": {
      "name": "python3",
      "display_name": "Python 3"
    },
    "accelerator": "GPU"
  },
  "cells": [
    {
      "cell_type": "code",
      "metadata": {
        "id": "9BRfPs6N2B8I"
      },
      "source": [
        "#importing Libraries\n",
        "import tensorflow as tf\n",
        "import matplotlib.pyplot as plt\n",
        "import pandas as pd \n",
        "import numpy as np\n",
        "\n",
        "\n",
        "from tensorflow.keras.datasets import cifar10\n",
        "from tensorflow.keras.callbacks import EarlyStopping\n",
        "\n",
        "\n",
        "from tensorflow.keras.models import Sequential\n",
        "from tensorflow.keras.layers import Dense, Activation, Conv2D, MaxPool2D, Flatten, Dropout,BatchNormalization\n",
        "\n",
        "from tensorflow.keras.preprocessing.image import ImageDataGenerator"
      ],
      "execution_count": null,
      "outputs": []
    },
    {
      "cell_type": "code",
      "metadata": {
        "id": "G_zqUGtD8TYG",
        "colab": {
          "base_uri": "https://localhost:8080/"
        },
        "outputId": "2ce829c2-1fda-4584-8062-3ff450ab62ae"
      },
      "source": [
        "#loading and scaling the data\n",
        "(X_train,y_train),(X_test,y_test) = cifar10.load_data()\n",
        "\n",
        "X_train = X_train/255.0\n",
        "\n",
        "X_test = X_test/255.0"
      ],
      "execution_count": null,
      "outputs": [
        {
          "output_type": "stream",
          "text": [
            "Downloading data from https://www.cs.toronto.edu/~kriz/cifar-10-python.tar.gz\n",
            "170500096/170498071 [==============================] - 2s 0us/step\n"
          ],
          "name": "stdout"
        }
      ]
    },
    {
      "cell_type": "code",
      "metadata": {
        "id": "6VDXDqGj8g4g"
      },
      "source": [
        "#creating the model\n",
        "model = Sequential()\n",
        "\n",
        "#Block Number 1\n",
        "model.add(Conv2D(input_shape = (32,32,3), filters=32,padding=\"same\", kernel_size= (3,3)))\n",
        "model.add(BatchNormalization())\n",
        "model.add(Activation(\"relu\"))\n",
        "\n",
        "model.add(Conv2D(filters=32,padding=\"same\", kernel_size= (3,3)))\n",
        "model.add(BatchNormalization())\n",
        "model.add(Activation(\"relu\"))\n",
        "\n",
        "model.add(MaxPool2D((2,2)))\n",
        "\n",
        "#Block Number 2\n",
        "model.add(Conv2D(filters=64,padding=\"same\", kernel_size= (3,3)))\n",
        "model.add(BatchNormalization())\n",
        "model.add(Activation(\"relu\"))\n",
        "\n",
        "\n",
        "model.add(Conv2D(filters=64,padding=\"same\", kernel_size= (3,3)))\n",
        "model.add(BatchNormalization())\n",
        "model.add(Activation(\"relu\"))\n",
        "\n",
        "model.add(MaxPool2D((2,2)))\n",
        "\n",
        "#Block Number 3\n",
        "model.add(Conv2D(filters=128,padding=\"same\", kernel_size= (3,3)))\n",
        "model.add(BatchNormalization())\n",
        "model.add(Activation(\"relu\"))\n",
        "\n",
        "model.add(Conv2D(filters=128,padding=\"same\", kernel_size= (3,3)))\n",
        "model.add(BatchNormalization())\n",
        "model.add(Activation(\"relu\"))\n",
        "\n",
        "model.add(MaxPool2D((2,2)))\n",
        "\n",
        "#Block Number 4\n",
        "model.add(Conv2D(filters=256,padding=\"same\", kernel_size= (3,3)))\n",
        "model.add(BatchNormalization())\n",
        "model.add(Activation(\"relu\"))\n",
        "\n",
        "model.add(Conv2D(filters=256,padding=\"same\", kernel_size= (3,3)))\n",
        "model.add(BatchNormalization())\n",
        "model.add(Activation(\"relu\"))\n",
        "\n",
        "model.add(MaxPool2D((2,2)))\n",
        "\n",
        "# Fully Connected layer\n",
        "model.add(Flatten())\n",
        "\n",
        "model.add(Dense(units=1024, activation=\"relu\"))\n",
        "\n",
        "model.add(Dense(units=256, activation=\"relu\"))\n",
        "model.add(Dropout(0.2))\n",
        "\n",
        "\n",
        "model.add(Dense(units=10, activation=\"softmax\"))\n",
        "\n",
        "#model compile\n",
        "model.compile(optimizer=\"adam\", loss = \"sparse_categorical_crossentropy\", metrics = [\"sparse_categorical_accuracy\"])\n",
        "\n",
        "\n",
        "\n",
        "#early stopping\n",
        "early_stopping = EarlyStopping(monitor=\"val_loss\", mode = \"min\", verbose=1, patience= 3)"
      ],
      "execution_count": null,
      "outputs": []
    },
    {
      "cell_type": "code",
      "metadata": {
        "id": "TE2V6MzaCP6-",
        "colab": {
          "base_uri": "https://localhost:8080/"
        },
        "outputId": "70a5cb07-bea8-4d52-980f-83ec60bed6b0"
      },
      "source": [
        "#sumamary\n",
        "model.summary()"
      ],
      "execution_count": null,
      "outputs": [
        {
          "output_type": "stream",
          "text": [
            "Model: \"sequential\"\n",
            "_________________________________________________________________\n",
            "Layer (type)                 Output Shape              Param #   \n",
            "=================================================================\n",
            "conv2d (Conv2D)              (None, 32, 32, 32)        896       \n",
            "_________________________________________________________________\n",
            "batch_normalization (BatchNo (None, 32, 32, 32)        128       \n",
            "_________________________________________________________________\n",
            "activation (Activation)      (None, 32, 32, 32)        0         \n",
            "_________________________________________________________________\n",
            "conv2d_1 (Conv2D)            (None, 32, 32, 32)        9248      \n",
            "_________________________________________________________________\n",
            "batch_normalization_1 (Batch (None, 32, 32, 32)        128       \n",
            "_________________________________________________________________\n",
            "activation_1 (Activation)    (None, 32, 32, 32)        0         \n",
            "_________________________________________________________________\n",
            "max_pooling2d (MaxPooling2D) (None, 16, 16, 32)        0         \n",
            "_________________________________________________________________\n",
            "conv2d_2 (Conv2D)            (None, 16, 16, 64)        18496     \n",
            "_________________________________________________________________\n",
            "batch_normalization_2 (Batch (None, 16, 16, 64)        256       \n",
            "_________________________________________________________________\n",
            "activation_2 (Activation)    (None, 16, 16, 64)        0         \n",
            "_________________________________________________________________\n",
            "conv2d_3 (Conv2D)            (None, 16, 16, 64)        36928     \n",
            "_________________________________________________________________\n",
            "batch_normalization_3 (Batch (None, 16, 16, 64)        256       \n",
            "_________________________________________________________________\n",
            "activation_3 (Activation)    (None, 16, 16, 64)        0         \n",
            "_________________________________________________________________\n",
            "max_pooling2d_1 (MaxPooling2 (None, 8, 8, 64)          0         \n",
            "_________________________________________________________________\n",
            "conv2d_4 (Conv2D)            (None, 8, 8, 128)         73856     \n",
            "_________________________________________________________________\n",
            "batch_normalization_4 (Batch (None, 8, 8, 128)         512       \n",
            "_________________________________________________________________\n",
            "activation_4 (Activation)    (None, 8, 8, 128)         0         \n",
            "_________________________________________________________________\n",
            "conv2d_5 (Conv2D)            (None, 8, 8, 128)         147584    \n",
            "_________________________________________________________________\n",
            "batch_normalization_5 (Batch (None, 8, 8, 128)         512       \n",
            "_________________________________________________________________\n",
            "activation_5 (Activation)    (None, 8, 8, 128)         0         \n",
            "_________________________________________________________________\n",
            "max_pooling2d_2 (MaxPooling2 (None, 4, 4, 128)         0         \n",
            "_________________________________________________________________\n",
            "conv2d_6 (Conv2D)            (None, 4, 4, 256)         295168    \n",
            "_________________________________________________________________\n",
            "batch_normalization_6 (Batch (None, 4, 4, 256)         1024      \n",
            "_________________________________________________________________\n",
            "activation_6 (Activation)    (None, 4, 4, 256)         0         \n",
            "_________________________________________________________________\n",
            "conv2d_7 (Conv2D)            (None, 4, 4, 256)         590080    \n",
            "_________________________________________________________________\n",
            "batch_normalization_7 (Batch (None, 4, 4, 256)         1024      \n",
            "_________________________________________________________________\n",
            "activation_7 (Activation)    (None, 4, 4, 256)         0         \n",
            "_________________________________________________________________\n",
            "max_pooling2d_3 (MaxPooling2 (None, 2, 2, 256)         0         \n",
            "_________________________________________________________________\n",
            "flatten (Flatten)            (None, 1024)              0         \n",
            "_________________________________________________________________\n",
            "dense (Dense)                (None, 1024)              1049600   \n",
            "_________________________________________________________________\n",
            "dense_1 (Dense)              (None, 256)               262400    \n",
            "_________________________________________________________________\n",
            "dropout (Dropout)            (None, 256)               0         \n",
            "_________________________________________________________________\n",
            "dense_2 (Dense)              (None, 10)                2570      \n",
            "=================================================================\n",
            "Total params: 2,490,666\n",
            "Trainable params: 2,488,746\n",
            "Non-trainable params: 1,920\n",
            "_________________________________________________________________\n"
          ],
          "name": "stdout"
        }
      ]
    },
    {
      "cell_type": "code",
      "metadata": {
        "id": "yZwYWZMj9Qxw",
        "colab": {
          "base_uri": "https://localhost:8080/"
        },
        "outputId": "bf3284ab-0948-45a5-e7a1-5727e3612bc6"
      },
      "source": [
        "#ftting the model\n",
        "model.fit(X_train, y_train, validation_split=0.3, epochs= 30, batch_size=32, callbacks = [early_stopping])"
      ],
      "execution_count": null,
      "outputs": [
        {
          "output_type": "stream",
          "text": [
            "Epoch 1/30\n",
            "1094/1094 [==============================] - 10s 9ms/step - loss: 1.5282 - sparse_categorical_accuracy: 0.4456 - val_loss: 1.8104 - val_sparse_categorical_accuracy: 0.4277\n",
            "Epoch 2/30\n",
            "1094/1094 [==============================] - 9s 8ms/step - loss: 1.0059 - sparse_categorical_accuracy: 0.6491 - val_loss: 1.1291 - val_sparse_categorical_accuracy: 0.6255\n",
            "Epoch 3/30\n",
            "1094/1094 [==============================] - 9s 8ms/step - loss: 0.7863 - sparse_categorical_accuracy: 0.7299 - val_loss: 1.0879 - val_sparse_categorical_accuracy: 0.6481\n",
            "Epoch 4/30\n",
            "1094/1094 [==============================] - 9s 8ms/step - loss: 0.6536 - sparse_categorical_accuracy: 0.7759 - val_loss: 0.7881 - val_sparse_categorical_accuracy: 0.7303\n",
            "Epoch 5/30\n",
            "1094/1094 [==============================] - 9s 8ms/step - loss: 0.5481 - sparse_categorical_accuracy: 0.8127 - val_loss: 0.7281 - val_sparse_categorical_accuracy: 0.7570\n",
            "Epoch 6/30\n",
            "1094/1094 [==============================] - 9s 8ms/step - loss: 0.4523 - sparse_categorical_accuracy: 0.8457 - val_loss: 0.8474 - val_sparse_categorical_accuracy: 0.7257\n",
            "Epoch 7/30\n",
            "1094/1094 [==============================] - 9s 8ms/step - loss: 0.3779 - sparse_categorical_accuracy: 0.8722 - val_loss: 0.8079 - val_sparse_categorical_accuracy: 0.7623\n",
            "Epoch 8/30\n",
            "1094/1094 [==============================] - 9s 8ms/step - loss: 0.3118 - sparse_categorical_accuracy: 0.8941 - val_loss: 0.9250 - val_sparse_categorical_accuracy: 0.7564\n",
            "Epoch 00008: early stopping\n"
          ],
          "name": "stdout"
        },
        {
          "output_type": "execute_result",
          "data": {
            "text/plain": [
              "<tensorflow.python.keras.callbacks.History at 0x7faa496a9668>"
            ]
          },
          "metadata": {
            "tags": []
          },
          "execution_count": 5
        }
      ]
    },
    {
      "cell_type": "code",
      "metadata": {
        "id": "nsuSFdJvWlqo"
      },
      "source": [
        "#saving the losses\n",
        "loss = pd.DataFrame(model.history.history)"
      ],
      "execution_count": null,
      "outputs": []
    },
    {
      "cell_type": "code",
      "metadata": {
        "id": "U_BYvFuwUvYF",
        "colab": {
          "base_uri": "https://localhost:8080/",
          "height": 353
        },
        "outputId": "c20f22ee-9b3a-4e4d-db0a-27e02f349e23"
      },
      "source": [
        "#plotting the loss and accuracy\n",
        "plt.figure(figsize=(15,5))\n",
        "\n",
        "plt.subplot(1,2,1)\n",
        "plt.plot(loss[\"loss\"], label =\"Loss\")\n",
        "plt.plot(loss[\"val_loss\"], label = \"Validation_loss\")\n",
        "plt.legend()\n",
        "plt.title(\"Training and Validation Loss\")\n",
        "\n",
        "plt.subplot(1,2,2)\n",
        "plt.plot(loss['sparse_categorical_accuracy'],label = \"Training Accuracy\")\n",
        "plt.plot(loss['val_sparse_categorical_accuracy'], label =\"Validation_ Accuracy \")\n",
        "plt.legend()\n",
        "plt.title(\"Training-Validation Accuracy\")"
      ],
      "execution_count": null,
      "outputs": [
        {
          "output_type": "execute_result",
          "data": {
            "text/plain": [
              "Text(0.5, 1.0, 'Training-Validation Accuracy')"
            ]
          },
          "metadata": {
            "tags": []
          },
          "execution_count": 7
        },
        {
          "output_type": "display_data",
          "data": {
            "image/png": "[encoded data removed]",
            "text/plain": [
              "<Figure size 1080x360 with 2 Axes>"
            ]
          },
          "metadata": {
            "tags": [],
            "needs_background": "light"
          }
        }
      ]
    },
    {
      "cell_type": "code",
      "metadata": {
        "id": "U3733uzaDWWu"
      },
      "source": [
        "#Creator generator\n",
        "train_datagen=ImageDataGenerator(\n",
        "    rotation_range=20,\n",
        "    width_shift_range=0.2,\n",
        "    height_shift_range=0.2,\n",
        "    horizontal_flip=True)"
      ],
      "execution_count": null,
      "outputs": []
    },
    {
      "cell_type": "code",
      "metadata": {
        "id": "uOv_UalkDp-4"
      },
      "source": [
        "#fit the data \n",
        "train_datagen.fit(X_train)"
      ],
      "execution_count": null,
      "outputs": []
    },
    {
      "cell_type": "code",
      "metadata": {
        "id": "1zh07gBlEM6a"
      },
      "source": [
        "#creating the model\n",
        "model = Sequential()\n",
        "\n",
        "#Block Number 1\n",
        "model.add(Conv2D(input_shape = (32,32,3), filters=32,padding=\"same\", kernel_size= (3,3)))\n",
        "model.add(BatchNormalization())\n",
        "model.add(Activation(\"relu\"))\n",
        "\n",
        "model.add(Conv2D(filters=32,padding=\"same\", kernel_size= (3,3)))\n",
        "model.add(BatchNormalization())\n",
        "model.add(Activation(\"relu\"))\n",
        "\n",
        "model.add(MaxPool2D((2,2)))\n",
        "\n",
        "#Block Number 2\n",
        "model.add(Conv2D(filters=64,padding=\"same\", kernel_size= (3,3)))\n",
        "model.add(BatchNormalization())\n",
        "model.add(Activation(\"relu\"))\n",
        "\n",
        "\n",
        "model.add(Conv2D(filters=64,padding=\"same\", kernel_size= (3,3)))\n",
        "model.add(BatchNormalization())\n",
        "model.add(Activation(\"relu\"))\n",
        "\n",
        "model.add(MaxPool2D((2,2)))\n",
        "\n",
        "#Block Number 3\n",
        "model.add(Conv2D(filters=128,padding=\"same\", kernel_size= (3,3)))\n",
        "model.add(BatchNormalization())\n",
        "model.add(Activation(\"relu\"))\n",
        "\n",
        "model.add(Conv2D(filters=128,padding=\"same\", kernel_size= (3,3)))\n",
        "model.add(BatchNormalization())\n",
        "model.add(Activation(\"relu\"))\n",
        "\n",
        "model.add(MaxPool2D((2,2)))\n",
        "\n",
        "#Block Number 4\n",
        "model.add(Conv2D(filters=256,padding=\"same\", kernel_size= (3,3)))\n",
        "model.add(BatchNormalization())\n",
        "model.add(Activation(\"relu\"))\n",
        "\n",
        "model.add(Conv2D(filters=256,padding=\"same\", kernel_size= (3,3)))\n",
        "model.add(BatchNormalization())\n",
        "model.add(Activation(\"relu\"))\n",
        "\n",
        "model.add(MaxPool2D((2,2)))\n",
        "\n",
        "# Fully Connected layer\n",
        "model.add(Flatten())\n",
        "\n",
        "model.add(Dense(units=1024, activation=\"relu\"))\n",
        "\n",
        "model.add(Dense(units=256, activation=\"relu\"))\n",
        "model.add(Dropout(0.2))\n",
        "\n",
        "\n",
        "model.add(Dense(units=10, activation=\"softmax\"))\n",
        "\n",
        "#model compile\n",
        "model.compile(optimizer=\"adam\", loss = \"sparse_categorical_crossentropy\", metrics = [\"sparse_categorical_accuracy\"])\n"
      ],
      "execution_count": null,
      "outputs": []
    },
    {
      "cell_type": "code",
      "metadata": {
        "id": "56PBWD-PEB0i",
        "colab": {
          "base_uri": "https://localhost:8080/"
        },
        "outputId": "2d7d61f7-51f3-46a7-ab68-399f4df8f210"
      },
      "source": [
        "#fitting the model\n",
        "model.fit(train_datagen.flow(X_train, y_train, batch_size=32),\n",
        "          steps_per_epoch=len(X_train) / 32, epochs=30,validation_data = (X_test,y_test))"
      ],
      "execution_count": null,
      "outputs": [
        {
          "output_type": "stream",
          "text": [
            "Epoch 1/30\n",
            "1563/1562 [==============================] - 30s 19ms/step - loss: 1.6237 - sparse_categorical_accuracy: 0.4025 - val_loss: 2.9391 - val_sparse_categorical_accuracy: 0.2956\n",
            "Epoch 2/30\n",
            "1563/1562 [==============================] - 29s 19ms/step - loss: 1.1929 - sparse_categorical_accuracy: 0.5798 - val_loss: 1.0962 - val_sparse_categorical_accuracy: 0.6129\n",
            "Epoch 3/30\n",
            "1563/1562 [==============================] - 29s 19ms/step - loss: 1.0005 - sparse_categorical_accuracy: 0.6513 - val_loss: 1.1829 - val_sparse_categorical_accuracy: 0.5936\n",
            "Epoch 4/30\n",
            "1563/1562 [==============================] - 29s 19ms/step - loss: 0.8869 - sparse_categorical_accuracy: 0.6946 - val_loss: 1.0387 - val_sparse_categorical_accuracy: 0.6554\n",
            "Epoch 5/30\n",
            "1563/1562 [==============================] - 29s 19ms/step - loss: 0.8005 - sparse_categorical_accuracy: 0.7266 - val_loss: 0.8719 - val_sparse_categorical_accuracy: 0.7048\n",
            "Epoch 6/30\n",
            "1563/1562 [==============================] - 29s 19ms/step - loss: 0.7417 - sparse_categorical_accuracy: 0.7481 - val_loss: 0.7774 - val_sparse_categorical_accuracy: 0.7423\n",
            "Epoch 7/30\n",
            "1563/1562 [==============================] - 29s 19ms/step - loss: 0.6901 - sparse_categorical_accuracy: 0.7657 - val_loss: 0.6349 - val_sparse_categorical_accuracy: 0.7907\n",
            "Epoch 8/30\n",
            "1563/1562 [==============================] - 29s 18ms/step - loss: 0.6472 - sparse_categorical_accuracy: 0.7828 - val_loss: 0.6533 - val_sparse_categorical_accuracy: 0.7739\n",
            "Epoch 9/30\n",
            "1563/1562 [==============================] - 29s 18ms/step - loss: 0.6147 - sparse_categorical_accuracy: 0.7910 - val_loss: 0.6243 - val_sparse_categorical_accuracy: 0.7902\n",
            "Epoch 10/30\n",
            "1563/1562 [==============================] - 30s 19ms/step - loss: 0.5875 - sparse_categorical_accuracy: 0.8014 - val_loss: 0.6258 - val_sparse_categorical_accuracy: 0.7895\n",
            "Epoch 11/30\n",
            "1563/1562 [==============================] - 31s 20ms/step - loss: 0.5586 - sparse_categorical_accuracy: 0.8093 - val_loss: 0.6964 - val_sparse_categorical_accuracy: 0.7780\n",
            "Epoch 12/30\n",
            "1563/1562 [==============================] - 31s 20ms/step - loss: 0.5369 - sparse_categorical_accuracy: 0.8175 - val_loss: 0.5967 - val_sparse_categorical_accuracy: 0.7926\n",
            "Epoch 13/30\n",
            "1563/1562 [==============================] - 30s 19ms/step - loss: 0.5166 - sparse_categorical_accuracy: 0.8247 - val_loss: 0.6981 - val_sparse_categorical_accuracy: 0.7826\n",
            "Epoch 14/30\n",
            "1563/1562 [==============================] - 30s 19ms/step - loss: 0.5007 - sparse_categorical_accuracy: 0.8306 - val_loss: 0.6638 - val_sparse_categorical_accuracy: 0.7861\n",
            "Epoch 15/30\n",
            "1563/1562 [==============================] - 30s 19ms/step - loss: 0.4827 - sparse_categorical_accuracy: 0.8357 - val_loss: 0.4801 - val_sparse_categorical_accuracy: 0.8371\n",
            "Epoch 16/30\n",
            "1563/1562 [==============================] - 30s 19ms/step - loss: 0.4661 - sparse_categorical_accuracy: 0.8437 - val_loss: 0.6505 - val_sparse_categorical_accuracy: 0.7954\n",
            "Epoch 17/30\n",
            "1563/1562 [==============================] - 30s 19ms/step - loss: 0.4497 - sparse_categorical_accuracy: 0.8467 - val_loss: 0.4661 - val_sparse_categorical_accuracy: 0.8476\n",
            "Epoch 18/30\n",
            "1563/1562 [==============================] - 30s 19ms/step - loss: 0.4348 - sparse_categorical_accuracy: 0.8514 - val_loss: 0.6250 - val_sparse_categorical_accuracy: 0.7965\n",
            "Epoch 19/30\n",
            "1563/1562 [==============================] - 30s 19ms/step - loss: 0.4313 - sparse_categorical_accuracy: 0.8536 - val_loss: 0.5561 - val_sparse_categorical_accuracy: 0.8158\n",
            "Epoch 20/30\n",
            "1563/1562 [==============================] - 30s 19ms/step - loss: 0.4196 - sparse_categorical_accuracy: 0.8575 - val_loss: 0.5990 - val_sparse_categorical_accuracy: 0.8071\n",
            "Epoch 21/30\n",
            "1563/1562 [==============================] - 30s 19ms/step - loss: 0.4052 - sparse_categorical_accuracy: 0.8615 - val_loss: 0.4657 - val_sparse_categorical_accuracy: 0.8448\n",
            "Epoch 22/30\n",
            "1563/1562 [==============================] - 30s 19ms/step - loss: 0.3967 - sparse_categorical_accuracy: 0.8655 - val_loss: 0.4172 - val_sparse_categorical_accuracy: 0.8621\n",
            "Epoch 23/30\n",
            "1563/1562 [==============================] - 30s 19ms/step - loss: 0.3905 - sparse_categorical_accuracy: 0.8655 - val_loss: 0.5049 - val_sparse_categorical_accuracy: 0.8391\n",
            "Epoch 24/30\n",
            "1563/1562 [==============================] - 30s 19ms/step - loss: 0.3819 - sparse_categorical_accuracy: 0.8698 - val_loss: 0.4493 - val_sparse_categorical_accuracy: 0.8582\n",
            "Epoch 25/30\n",
            "1563/1562 [==============================] - 29s 19ms/step - loss: 0.3707 - sparse_categorical_accuracy: 0.8743 - val_loss: 0.4643 - val_sparse_categorical_accuracy: 0.8469\n",
            "Epoch 26/30\n",
            "1563/1562 [==============================] - 29s 19ms/step - loss: 0.3656 - sparse_categorical_accuracy: 0.8752 - val_loss: 0.5066 - val_sparse_categorical_accuracy: 0.8383\n",
            "Epoch 27/30\n",
            "1563/1562 [==============================] - 29s 19ms/step - loss: 0.3581 - sparse_categorical_accuracy: 0.8766 - val_loss: 0.3992 - val_sparse_categorical_accuracy: 0.8662\n",
            "Epoch 28/30\n",
            "1563/1562 [==============================] - 29s 19ms/step - loss: 0.3498 - sparse_categorical_accuracy: 0.8803 - val_loss: 0.4324 - val_sparse_categorical_accuracy: 0.8578\n",
            "Epoch 29/30\n",
            "1563/1562 [==============================] - 29s 19ms/step - loss: 0.3428 - sparse_categorical_accuracy: 0.8836 - val_loss: 0.5267 - val_sparse_categorical_accuracy: 0.8391\n",
            "Epoch 30/30\n",
            "1563/1562 [==============================] - 30s 19ms/step - loss: 0.3344 - sparse_categorical_accuracy: 0.8847 - val_loss: 0.4487 - val_sparse_categorical_accuracy: 0.8593\n"
          ],
          "name": "stdout"
        },
        {
          "output_type": "execute_result",
          "data": {
            "text/plain": [
              "<tensorflow.python.keras.callbacks.History at 0x7faa5036d4a8>"
            ]
          },
          "metadata": {
            "tags": []
          },
          "execution_count": 13
        }
      ]
    },
    {
      "cell_type": "code",
      "metadata": {
        "id": "Uo9Pz6FCE4YV"
      },
      "source": [
        "#loss\n",
        "loss=pd.DataFrame(model.history.history)"
      ],
      "execution_count": null,
      "outputs": []
    },
    {
      "cell_type": "code",
      "metadata": {
        "id": "OpL8UhmTSSXI",
        "colab": {
          "base_uri": "https://localhost:8080/",
          "height": 353
        },
        "outputId": "a77e9831-085f-41a7-effa-87121f5f3d48"
      },
      "source": [
        "#plotting the loss and accuracy\n",
        "plt.figure(figsize=(15,5))\n",
        "\n",
        "plt.subplot(1,2,1)\n",
        "plt.plot(loss[\"loss\"], label =\"Loss\")\n",
        "plt.plot(loss[\"val_loss\"], label = \"Validation_loss\")\n",
        "plt.legend()\n",
        "plt.title(\"Training and Validation Loss\")\n",
        "\n",
        "plt.subplot(1,2,2)\n",
        "plt.plot(loss['sparse_categorical_accuracy'],label = \"Training Accuracy\")\n",
        "plt.plot(loss['val_sparse_categorical_accuracy'], label =\"Validation_ Accuracy \")\n",
        "plt.legend()\n",
        "plt.title(\"Training-Validation Accuracy\")"
      ],
      "execution_count": null,
      "outputs": [
        {
          "output_type": "execute_result",
          "data": {
            "text/plain": [
              "Text(0.5, 1.0, 'Training-Validation Accuracy')"
            ]
          },
          "metadata": {
            "tags": []
          },
          "execution_count": 15
        },
        {
          "output_type": "display_data",
          "data": {
            "image/png": "[encoded data removed]",
            "text/plain": [
              "<Figure size 1080x360 with 2 Axes>"
            ]
          },
          "metadata": {
            "tags": [],
            "needs_background": "light"
          }
        }
      ]
    },
    {
      "cell_type": "code",
      "metadata": {
        "id": "yw-WL4-IbamG"
      },
      "source": [
        ""
      ],
      "execution_count": null,
      "outputs": []
    }
  ]
}